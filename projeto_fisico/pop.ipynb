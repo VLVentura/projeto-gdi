{
 "cells": [
  {
   "cell_type": "code",
   "execution_count": 1,
   "id": "c76c7563",
   "metadata": {
    "collapsed": false
   },
   "outputs": [
    {
     "name": "stdout",
     "output_type": "stream",
     "text": [
      "Defaulting to user installation because normal site-packages is not writeable\r\n"
     ]
    },
    {
     "name": "stdout",
     "output_type": "stream",
     "text": [
      "Requirement already satisfied: hypothesis in /home/enzobissoli/.local/lib/python3.10/site-packages (6.46.2)\r\n"
     ]
    },
    {
     "name": "stdout",
     "output_type": "stream",
     "text": [
      "Requirement already satisfied: attrs>=19.2.0 in /home/enzobissoli/.local/lib/python3.10/site-packages (from hypothesis) (21.4.0)\r\n",
      "Requirement already satisfied: sortedcontainers<3.0.0,>=2.1.0 in /home/enzobissoli/.local/lib/python3.10/site-packages (from hypothesis) (2.4.0)\r\n"
     ]
    },
    {
     "name": "stdout",
     "output_type": "stream",
     "text": [
      "Note: you may need to restart the kernel to use updated packages.\n"
     ]
    }
   ],
   "source": [
    "pip install hypothesis\n"
   ]
  },
  {
   "cell_type": "code",
   "execution_count": 3,
   "id": "81fabb66",
   "metadata": {
    "collapsed": false
   },
   "outputs": [
    {
     "name": "stdout",
     "output_type": "stream",
     "text": [
      "Defaulting to user installation because normal site-packages is not writeable\r\n"
     ]
    },
    {
     "name": "stdout",
     "output_type": "stream",
     "text": [
      "Requirement already satisfied: python-dateutil in /usr/lib/python3.10/site-packages (2.8.1)\r\n",
      "Requirement already satisfied: six>=1.5 in /usr/lib/python3.10/site-packages (from python-dateutil) (1.16.0)\r\n"
     ]
    },
    {
     "name": "stdout",
     "output_type": "stream",
     "text": [
      "Note: you may need to restart the kernel to use updated packages.\n"
     ]
    }
   ],
   "source": [
    "pip install python-dateutil"
   ]
  },
  {
   "cell_type": "code",
   "execution_count": 79,
   "id": "47d1a8f6",
   "metadata": {
    "collapsed": false
   },
   "outputs": [],
   "source": [
    "from hypothesis.core import example, given\n",
    "from hypothesis.strategies import composite, from_type,from_regex, lists, sampled_from, floats, characters,datetimes,dates,timedeltas\n",
    "from datetime import date, timedelta, datetime\n",
    "from schema import *\n",
    "import re\n",
    "import random\n",
    "from dateutil.relativedelta import *\n",
    "from dateutil.easter import *\n",
    "from dateutil.rrule import *\n",
    "from dateutil.parser import *\n",
    "\n"
   ]
  },
  {
   "cell_type": "code",
   "execution_count": 4,
   "id": "e0789375",
   "metadata": {
    "collapsed": false
   },
   "outputs": [
    {
     "name": "stdout",
     "output_type": "stream",
     "text": [
      "Defaulting to user installation because normal site-packages is not writeable\r\n",
      "Requirement already satisfied: psycopg2-binary in /home/enzobissoli/.local/lib/python3.10/site-packages (2.9.3)\r\n"
     ]
    },
    {
     "name": "stdout",
     "output_type": "stream",
     "text": [
      "Note: you may need to restart the kernel to use updated packages.\n"
     ]
    }
   ],
   "source": [
    "pip install psycopg2-binary\n"
   ]
  },
  {
   "cell_type": "code",
   "execution_count": 92,
   "id": "176585ee",
   "metadata": {
    "collapsed": false
   },
   "outputs": [],
   "source": [
    "import psycopg2\n",
    "from faker import Faker\n",
    "conn = psycopg2.connect(\n",
    "    host = \"localhost\",\n",
    "    database = \"cinema\",\n",
    "    user = \"ebissoli\"\n",
    ")"
   ]
  },
  {
   "cell_type": "code",
   "execution_count": 93,
   "id": "0eb650a2",
   "metadata": {
    "collapsed": false
   },
   "outputs": [
    {
     "name": "stdout",
     "output_type": "stream",
     "text": [
      "Connecting to DB\n"
     ]
    }
   ],
   "source": [
    "print('Connecting to DB')\n",
    "cur = conn.cursor()"
   ]
  },
  {
   "cell_type": "code",
   "execution_count": 94,
   "id": "6ed2754c",
   "metadata": {
    "collapsed": false
   },
   "outputs": [
    {
     "name": "stdout",
     "output_type": "stream",
     "text": [
      "PostgresSQL test\n"
     ]
    }
   ],
   "source": [
    "print('PostgresSQL test')\n",
    "cur.execute('SELECT version()')\n"
   ]
  },
  {
   "cell_type": "code",
   "execution_count": null,
   "id": "643de910",
   "metadata": {
    "collapsed": false
   },
   "outputs": [],
   "source": [
    "# can connect and update db from here on"
   ]
  },
  {
   "cell_type": "code",
   "execution_count": 29,
   "id": "fdb4a5f6",
   "metadata": {
    "collapsed": false
   },
   "outputs": [
    {
     "name": "stdout",
     "output_type": "stream",
     "text": [
      "Defaulting to user installation because normal site-packages is not writeable\r\n"
     ]
    },
    {
     "name": "stdout",
     "output_type": "stream",
     "text": [
      "Collecting faker\r\n"
     ]
    },
    {
     "name": "stdout",
     "output_type": "stream",
     "text": [
      "  Downloading Faker-13.11.1-py3-none-any.whl (1.5 MB)\r\n",
      "\u001b[?25l\r"
     ]
    },
    {
     "name": "stdout",
     "output_type": "stream",
     "text": [
      "\r",
      "     |▏                               | 10 kB 1.3 MB/s eta 0:00:02\r",
      "     |▍                               | 20 kB 867 kB/s eta 0:00:02\r",
      "     |▋                               | 30 kB 785 kB/s eta 0:00:02\r",
      "     |▉                               | 40 kB 789 kB/s eta 0:00:02"
     ]
    },
    {
     "name": "stdout",
     "output_type": "stream",
     "text": [
      "\r",
      "     |█                               | 51 kB 402 kB/s eta 0:00:04\r",
      "     |█▎                              | 61 kB 482 kB/s eta 0:00:04\r",
      "     |█▌                              | 71 kB 525 kB/s eta 0:00:03\r",
      "     |█▊                              | 81 kB 551 kB/s eta 0:00:03\r",
      "     |██                              | 92 kB 619 kB/s eta 0:00:03"
     ]
    },
    {
     "name": "stdout",
     "output_type": "stream",
     "text": [
      "\r",
      "     |██▏                             | 102 kB 486 kB/s eta 0:00:03\r",
      "     |██▍                             | 112 kB 486 kB/s eta 0:00:03\r",
      "     |██▋                             | 122 kB 486 kB/s eta 0:00:03\r",
      "     |██▊                             | 133 kB 486 kB/s eta 0:00:03\r",
      "     |███                             | 143 kB 486 kB/s eta 0:00:03\r",
      "     |███▏                            | 153 kB 486 kB/s eta 0:00:03\r",
      "     |███▍                            | 163 kB 486 kB/s eta 0:00:03\r",
      "     |███▋                            | 174 kB 486 kB/s eta 0:00:03\r",
      "     |███▉                            | 184 kB 486 kB/s eta 0:00:03\r",
      "     |████                            | 194 kB 486 kB/s eta 0:00:03\r",
      "     |████▎                           | 204 kB 486 kB/s eta 0:00:03\r",
      "     |████▌                           | 215 kB 486 kB/s eta 0:00:03\r",
      "     |████▊                           | 225 kB 486 kB/s eta 0:00:03\r",
      "     |█████                           | 235 kB 486 kB/s eta 0:00:03"
     ]
    },
    {
     "name": "stdout",
     "output_type": "stream",
     "text": [
      "\r",
      "     |█████▏                          | 245 kB 486 kB/s eta 0:00:03\r",
      "     |█████▎                          | 256 kB 486 kB/s eta 0:00:03\r",
      "     |█████▌                          | 266 kB 486 kB/s eta 0:00:03\r",
      "     |█████▊                          | 276 kB 486 kB/s eta 0:00:03\r",
      "     |██████                          | 286 kB 486 kB/s eta 0:00:03\r",
      "     |██████▏                         | 296 kB 486 kB/s eta 0:00:03\r",
      "     |██████▍                         | 307 kB 486 kB/s eta 0:00:03\r",
      "     |██████▋                         | 317 kB 486 kB/s eta 0:00:03\r",
      "     |██████▉                         | 327 kB 486 kB/s eta 0:00:03\r",
      "     |███████                         | 337 kB 486 kB/s eta 0:00:03\r",
      "     |███████▎                        | 348 kB 486 kB/s eta 0:00:03\r",
      "     |███████▌                        | 358 kB 486 kB/s eta 0:00:03\r",
      "     |███████▊                        | 368 kB 486 kB/s eta 0:00:03"
     ]
    },
    {
     "name": "stdout",
     "output_type": "stream",
     "text": [
      "\r",
      "     |███████▉                        | 378 kB 486 kB/s eta 0:00:03\r",
      "     |████████                        | 389 kB 486 kB/s eta 0:00:03\r",
      "     |████████▎                       | 399 kB 486 kB/s eta 0:00:03\r",
      "     |████████▌                       | 409 kB 486 kB/s eta 0:00:03\r",
      "     |████████▊                       | 419 kB 486 kB/s eta 0:00:03\r",
      "     |█████████                       | 430 kB 486 kB/s eta 0:00:03\r",
      "     |█████████▏                      | 440 kB 486 kB/s eta 0:00:03\r",
      "     |█████████▍                      | 450 kB 486 kB/s eta 0:00:03\r",
      "     |█████████▋                      | 460 kB 486 kB/s eta 0:00:03\r",
      "     |█████████▉                      | 471 kB 486 kB/s eta 0:00:03\r",
      "     |██████████                      | 481 kB 486 kB/s eta 0:00:03\r",
      "     |██████████▎                     | 491 kB 486 kB/s eta 0:00:03\r",
      "     |██████████▍                     | 501 kB 486 kB/s eta 0:00:03\r",
      "     |██████████▋                     | 512 kB 486 kB/s eta 0:00:03\r",
      "     |██████████▉                     | 522 kB 486 kB/s eta 0:00:03\r",
      "     |███████████                     | 532 kB 486 kB/s eta 0:00:03\r",
      "     |███████████▎                    | 542 kB 486 kB/s eta 0:00:03\r",
      "     |███████████▌                    | 552 kB 486 kB/s eta 0:00:03\r",
      "     |███████████▊                    | 563 kB 486 kB/s eta 0:00:03"
     ]
    },
    {
     "name": "stdout",
     "output_type": "stream",
     "text": [
      "\r",
      "     |████████████                    | 573 kB 486 kB/s eta 0:00:02\r",
      "     |████████████▏                   | 583 kB 486 kB/s eta 0:00:02\r",
      "     |████████████▍                   | 593 kB 486 kB/s eta 0:00:02\r",
      "     |████████████▋                   | 604 kB 486 kB/s eta 0:00:02\r",
      "     |████████████▉                   | 614 kB 486 kB/s eta 0:00:02\r",
      "     |█████████████                   | 624 kB 486 kB/s eta 0:00:02\r",
      "     |█████████████▏                  | 634 kB 486 kB/s eta 0:00:02\r",
      "     |█████████████▍                  | 645 kB 486 kB/s eta 0:00:02\r",
      "     |█████████████▋                  | 655 kB 486 kB/s eta 0:00:02\r",
      "     |█████████████▉                  | 665 kB 486 kB/s eta 0:00:02\r",
      "     |██████████████                  | 675 kB 486 kB/s eta 0:00:02\r",
      "     |██████████████▎                 | 686 kB 486 kB/s eta 0:00:02\r",
      "     |██████████████▌                 | 696 kB 486 kB/s eta 0:00:02\r",
      "     |██████████████▊                 | 706 kB 486 kB/s eta 0:00:02\r",
      "     |███████████████                 | 716 kB 486 kB/s eta 0:00:02\r",
      "     |███████████████▏                | 727 kB 486 kB/s eta 0:00:02\r",
      "     |███████████████▍                | 737 kB 486 kB/s eta 0:00:02\r",
      "     |███████████████▌                | 747 kB 486 kB/s eta 0:00:02\r",
      "     |███████████████▊                | 757 kB 486 kB/s eta 0:00:02\r",
      "     |████████████████                | 768 kB 486 kB/s eta 0:00:02\r",
      "     |████████████████▏               | 778 kB 486 kB/s eta 0:00:02\r",
      "     |████████████████▍               | 788 kB 486 kB/s eta 0:00:02\r",
      "     |████████████████▋               | 798 kB 486 kB/s eta 0:00:02\r",
      "     |████████████████▉               | 808 kB 486 kB/s eta 0:00:02\r",
      "     |█████████████████               | 819 kB 486 kB/s eta 0:00:02\r",
      "     |█████████████████▎              | 829 kB 486 kB/s eta 0:00:02\r",
      "     |█████████████████▌              | 839 kB 486 kB/s eta 0:00:02\r",
      "     |█████████████████▊              | 849 kB 486 kB/s eta 0:00:02\r",
      "     |██████████████████              | 860 kB 486 kB/s eta 0:00:02\r",
      "     |██████████████████              | 870 kB 486 kB/s eta 0:00:02\r",
      "     |██████████████████▎             | 880 kB 486 kB/s eta 0:00:02\r",
      "     |██████████████████▌             | 890 kB 486 kB/s eta 0:00:02\r",
      "     |██████████████████▊             | 901 kB 486 kB/s eta 0:00:02\r",
      "     |███████████████████             | 911 kB 486 kB/s eta 0:00:02\r",
      "     |███████████████████▏            | 921 kB 486 kB/s eta 0:00:02\r",
      "     |███████████████████▍            | 931 kB 486 kB/s eta 0:00:02\r",
      "     |███████████████████▋            | 942 kB 486 kB/s eta 0:00:02\r",
      "     |███████████████████▉            | 952 kB 486 kB/s eta 0:00:02\r",
      "     |████████████████████            | 962 kB 486 kB/s eta 0:00:02\r",
      "     |████████████████████▎           | 972 kB 486 kB/s eta 0:00:02\r",
      "     |████████████████████▌           | 983 kB 486 kB/s eta 0:00:02\r",
      "     |████████████████████▋           | 993 kB 486 kB/s eta 0:00:02\r",
      "     |████████████████████▉           | 1.0 MB 486 kB/s eta 0:00:02\r",
      "     |█████████████████████           | 1.0 MB 486 kB/s eta 0:00:02\r",
      "     |█████████████████████▎          | 1.0 MB 486 kB/s eta 0:00:02\r",
      "     |█████████████████████▌          | 1.0 MB 486 kB/s eta 0:00:02\r",
      "     |█████████████████████▊          | 1.0 MB 486 kB/s eta 0:00:02\r",
      "     |██████████████████████          | 1.1 MB 486 kB/s eta 0:00:01\r",
      "     |██████████████████████▏         | 1.1 MB 486 kB/s eta 0:00:01\r",
      "     |██████████████████████▍         | 1.1 MB 486 kB/s eta 0:00:01\r",
      "     |██████████████████████▋         | 1.1 MB 486 kB/s eta 0:00:01\r",
      "     |██████████████████████▉         | 1.1 MB 486 kB/s eta 0:00:01"
     ]
    },
    {
     "name": "stdout",
     "output_type": "stream",
     "text": [
      "\r",
      "     |███████████████████████         | 1.1 MB 486 kB/s eta 0:00:01\r",
      "     |███████████████████████▏        | 1.1 MB 486 kB/s eta 0:00:01\r",
      "     |███████████████████████▍        | 1.1 MB 486 kB/s eta 0:00:01\r",
      "     |███████████████████████▋        | 1.1 MB 486 kB/s eta 0:00:01\r",
      "     |███████████████████████▉        | 1.1 MB 486 kB/s eta 0:00:01\r",
      "     |████████████████████████        | 1.2 MB 486 kB/s eta 0:00:01\r",
      "     |████████████████████████▎       | 1.2 MB 486 kB/s eta 0:00:01\r",
      "     |████████████████████████▌       | 1.2 MB 486 kB/s eta 0:00:01"
     ]
    },
    {
     "name": "stdout",
     "output_type": "stream",
     "text": [
      "\r",
      "     |████████████████████████▊       | 1.2 MB 486 kB/s eta 0:00:01\r",
      "     |█████████████████████████       | 1.2 MB 486 kB/s eta 0:00:01\r",
      "     |█████████████████████████▏      | 1.2 MB 486 kB/s eta 0:00:01\r",
      "     |█████████████████████████▍      | 1.2 MB 486 kB/s eta 0:00:01\r",
      "     |█████████████████████████▋      | 1.2 MB 486 kB/s eta 0:00:01\r",
      "     |█████████████████████████▊      | 1.2 MB 486 kB/s eta 0:00:01\r",
      "     |██████████████████████████      | 1.2 MB 486 kB/s eta 0:00:01\r",
      "     |██████████████████████████▏     | 1.3 MB 486 kB/s eta 0:00:01\r",
      "     |██████████████████████████▍     | 1.3 MB 486 kB/s eta 0:00:01\r",
      "     |██████████████████████████▋     | 1.3 MB 486 kB/s eta 0:00:01\r",
      "     |██████████████████████████▉     | 1.3 MB 486 kB/s eta 0:00:01\r",
      "     |███████████████████████████     | 1.3 MB 486 kB/s eta 0:00:01\r",
      "     |███████████████████████████▎    | 1.3 MB 486 kB/s eta 0:00:01\r",
      "     |███████████████████████████▌    | 1.3 MB 486 kB/s eta 0:00:01\r",
      "     |███████████████████████████▊    | 1.3 MB 486 kB/s eta 0:00:01\r",
      "     |████████████████████████████    | 1.3 MB 486 kB/s eta 0:00:01\r",
      "     |████████████████████████████▏   | 1.4 MB 486 kB/s eta 0:00:01\r",
      "     |████████████████████████████▎   | 1.4 MB 486 kB/s eta 0:00:01\r",
      "     |████████████████████████████▌   | 1.4 MB 486 kB/s eta 0:00:01\r",
      "     |████████████████████████████▊   | 1.4 MB 486 kB/s eta 0:00:01\r",
      "     |█████████████████████████████   | 1.4 MB 486 kB/s eta 0:00:01\r",
      "     |█████████████████████████████▏  | 1.4 MB 486 kB/s eta 0:00:01\r",
      "     |█████████████████████████████▍  | 1.4 MB 486 kB/s eta 0:00:01\r",
      "     |█████████████████████████████▋  | 1.4 MB 486 kB/s eta 0:00:01\r",
      "     |█████████████████████████████▉  | 1.4 MB 486 kB/s eta 0:00:01\r",
      "     |██████████████████████████████  | 1.4 MB 486 kB/s eta 0:00:01\r",
      "     |██████████████████████████████▎ | 1.5 MB 486 kB/s eta 0:00:01\r",
      "     |██████████████████████████████▌ | 1.5 MB 486 kB/s eta 0:00:01\r",
      "     |██████████████████████████████▊ | 1.5 MB 486 kB/s eta 0:00:01\r",
      "     |██████████████████████████████▉ | 1.5 MB 486 kB/s eta 0:00:01\r",
      "     |███████████████████████████████ | 1.5 MB 486 kB/s eta 0:00:01\r",
      "     |███████████████████████████████▎| 1.5 MB 486 kB/s eta 0:00:01\r",
      "     |███████████████████████████████▌| 1.5 MB 486 kB/s eta 0:00:01\r",
      "     |███████████████████████████████▊| 1.5 MB 486 kB/s eta 0:00:01\r",
      "     |████████████████████████████████| 1.5 MB 486 kB/s eta 0:00:01"
     ]
    },
    {
     "name": "stdout",
     "output_type": "stream",
     "text": [
      "\r",
      "     |████████████████████████████████| 1.5 MB 486 kB/s            \r\n",
      "\u001b[?25hRequirement already satisfied: python-dateutil>=2.4 in /usr/lib/python3.10/site-packages (from faker) (2.8.1)\r\n",
      "Requirement already satisfied: six>=1.5 in /usr/lib/python3.10/site-packages (from python-dateutil>=2.4->faker) (1.16.0)\r\n"
     ]
    },
    {
     "name": "stdout",
     "output_type": "stream",
     "text": [
      "Installing collected packages: faker\r\n"
     ]
    },
    {
     "name": "stdout",
     "output_type": "stream",
     "text": [
      "Successfully installed faker-13.11.1\r\n"
     ]
    },
    {
     "name": "stdout",
     "output_type": "stream",
     "text": [
      "Note: you may need to restart the kernel to use updated packages.\n"
     ]
    }
   ],
   "source": [
    "pip install faker"
   ]
  },
  {
   "cell_type": "code",
   "execution_count": 95,
   "id": "be4b7420",
   "metadata": {
    "collapsed": false
   },
   "outputs": [],
   "source": [
    "\n",
    "def movie_maker(movie):\n",
    "    return movie[0].example() + ' ' +  movie[1].example() + ' ' + movie[2].example()\n",
    " \n",
    "def mail_maker():\n",
    "    split = fake['en-US'].company().split(',')[0].split(' ')[0]\n",
    "    split2 = fake['en-US'].ascii_company_email().split('@')[1].split('.')[1]\n",
    "    split3 = 'cinema.' + split.lower() + '@' + email_extension.example() + '.' + split2\n",
    "    nome = 'Cinema ' + split #cinema entity\n",
    "    return (nome, split3)\n",
    "\n",
    "def nome_maker():\n",
    "    return nome_cliente_first.example() +  ' '+nome_cliente_last.example()\n",
    "\n",
    "def timestamp_maker(a,b):\n",
    "    if b ==True:\n",
    "        tim = datetimes(min_value=a[0],max_value=(a[0]+a[1])).example()\n",
    "    else:\n",
    "        tim = datetimes(min_value=(a[0]-a[1]),max_value=a[0]).example()\n",
    "    return tim\n",
    "\n"
   ]
  },
  {
   "cell_type": "code",
   "execution_count": 96,
   "id": "a4a016d8",
   "metadata": {
    "collapsed": false
   },
   "outputs": [],
   "source": [
    "fake = Faker(['pt-BR', 'en-US'])\n",
    "num = from_regex(r\"(?a)\\d\\d\\d\\d\",fullmatch=True)\n",
    "cnpj = from_regex(r\"(?a)\\d\\d\\.\\d\\d\\d\\.\\d\\d\\d/\\d\\d1\\-\\d\\d\",fullmatch=True)\n",
    "cep = from_regex(r\"(?a)\\d\\d\\d\\d\\d\\-\\d\\d\\d\",fullmatch=True)\n",
    "cpf = from_regex(r\"(?a)\\d\\d\\d\\.\\d\\d\\d\\.\\d\\d\\d\\-\\d\\d\",fullmatch=True)\n",
    "tel = from_regex(r\"(?a)\\+819\\d\\d\\d\\d\\d\\d\\d\\d\",fullmatch=True)\n",
    "email_extension = sampled_from(['gmail','outlook','baidu','buzz','moz','apple'])\n",
    "funcao = sampled_from(['Auxiliar','Vendedor','Guarda','Limpeza','Gerente'])\n",
    "movie_first = sampled_from(['Alien', 'Robot', 'Death', 'Brazil', 'Praia', 'Emacs', 'Vim', 'Life', 'Hero', 'Show', 'Biography', 'Existence', 'War', 'Survival'])\n",
    "movie_second = sampled_from(['Go', 'Die', 'Kill', 'Explode', 'Find', 'Seek', 'Destroy', 'Experience', 'Meaning', 'Act', 'Return', 'Sit', 'Apply', 'Discard'])\n",
    "movie_third = sampled_from(['People', 'Person', 'City', 'Temple', 'World', 'Brazil', 'USA', 'CHina', 'Asia', 'Europe', 'House', 'Work', 'Place', 'Party'])\n",
    "genre = sampled_from(['Terror', 'Acao', 'Misterio','Super Heroi', 'Ficcao', 'Romance', 'Comedia', 'Epico', 'Remake'])\n",
    "tiposala = sampled_from(['Comfort','Premium','Basic','Vanilla'])\n",
    "preco = floats(min_value=20.00, max_value=70.00,width=64)\n",
    "valor = floats(min_value=10.00, max_value=30.00,width=64)\n",
    "capacidade = from_regex(r\"(?a)\\d\\d\\d\",fullmatch=True).filter(lambda x: int(x) < 300)\n",
    "duracao=timedeltas(min_value=timedelta(minutes=90),max_value=timedelta(minutes=180))\n",
    "horario = datetimes(min_value=datetime.now(),max_value=datetime.today()+timedelta(days=30),allow_imaginary=False)\n",
    "codigo = from_regex(r\"(?a)\\d\\d\\d\\d\\d\\d\",fullmatch=True)\n",
    "idcupom = from_regex(r\"(?a)\\d\\d\\d\\d\",fullmatch=True)\n",
    "qtd = from_regex(r\"(?a)\\d\\d\",fullmatch=True)\n",
    "tipocupom = sampled_from([\"PREMIADO\",\"TERCAOLOUCA\",\"SABADO\",\"DOMINGOU\",\"SEXTOU\",\"ESTUDANTE\",\"SENIOR\"])\n",
    "compra = timedeltas(min_value=timedelta(days=0),max_value=timedelta(days=15))\n",
    "tamanho = sampled_from([\"GRANDE\",\"MEDIO\",\"PEQUENO\",\"EXTRAGRANDE\"])\n",
    "tipoconsu = sampled_from([\"REFRIGERANTE\",\"SODA\",\"SUCO\",\"CAFE\",\"SALGADO\",\"LANCHE\",\"DOCE\",\"PIPOCA\",\"CACHORRO-QUENTE\"])\n",
    "faixaetaria = sampled_from(['E','R','T','M'])\n",
    "nome_cliente_first = sampled_from([random.choice([fake.unique.first_name_male(),fake.unique.first_name_female()]) for x in range(10) ])\n",
    "nome_cliente_last = sampled_from([random.choice([fake.unique.last_name_male(),fake.unique.last_name_female()]) for x in range(10) ])\n",
    "idioma = sampled_from(['Portugues','Ingles','Alemao','Espanol','Chines','Italiano','Frances'])\n",
    "numero = from_regex(r\"(?a)\\d\\d\",fullmatch=True)\n",
    "movie = (movie_first,movie_second,movie_third)\n"
   ]
  },
  {
   "cell_type": "code",
   "execution_count": 28,
   "id": "1d397595",
   "metadata": {
    "collapsed": false
   },
   "outputs": [],
   "source": [
    "def new_cinema_entry():\n",
    "    mail = mail_maker()\n",
    "    return (cnpj.example(), cep.example(), int(num.example()), mail[1], tel.example(), mail[0])\n",
    "\n",
    "new_cinema_entry = new_cinema_entry()\n",
    "\n",
    "def new_funcionario_entry():\n",
    "    return (cpf.example(), nome_maker(), funcao.example(), cnpj.example(),new_cinema_entry[0],\"null\") #faltou gerente\n",
    "\n",
    "new_funcionario_entry = new_funcionario_entry()\n",
    "def new_sala_entry():\n",
    "    return (numero.example(), tiposala.example(), capacidade.example(), new_cinema_entry[0])\n",
    "new_sala_entry = new_sala_entry()\n",
    "def new_filme_entry():\n",
    "    return (movie_maker(movie), faixaetaria.example(),duracao.example()) \n",
    "new_filme_entry = new_filme_entry()\n",
    "def new_sessao_entry():\n",
    "    return (horario.example(), idioma.example(), new_sala_entry[1],new_sala_entry[0], new_cinema_entry[0], new_filme_entry[0])\n",
    "new_sessao_entry = new_sessao_entry()\n",
    "def new_genero_entry():\n",
    "    return (genre.example(), new_filme_entry[0])\n",
    "new_genero_entry = new_genero_entry()\n",
    "def new_ingresso_entry():\n",
    "    return (codigo.example(), preco.example())\n",
    "new_ingresso_entry = new_ingresso_entry()\n",
    "def new_associado_entry():\n",
    "    return (timestamp_maker((new_sessao_entry[0],new_filme_entry[2]),True),new_ingresso_entry[0],new_sala_entry[0],new_cinema_entry[0], new_sessao_entry[0]) #   acesso\n",
    "new_associado_entry = new_associado_entry()\n",
    "def new_consu_entry():\n",
    "    return (codigo.example(), preco.example(), tamanho.example(), tipoconsu.example(), \"null\") #outro nome\n",
    "new_consu_entry = new_consu_entry()\n",
    "def new_cliente_entry():\n",
    "    return (cpf.example(), nome_maker())\n",
    "new_cliente_entry = new_cliente_entry()\n",
    "\n",
    "def new_cupom_entry():\n",
    "    return (idcupom.example(), tipocupom.example(), valor.example())\n",
    "new_cupom_entry  = new_cupom_entry()\n",
    "\n",
    "def new_compra_consu_entry():\n",
    "    return (timestamp_maker((new_sessao_entry[0],compra.example()),False),new_cupom_entry[0], new_cliente_entry[0], new_consu_entry[0], qtd.example())\n",
    "new_compra_consu_entry = new_compra_consu_entry()\n",
    "\n",
    "def new_compra_ing_entry():\n",
    "    return (timestamp_maker((new_sessao_entry[0],compra.example()),False) ,new_cupom_entry[0], new_cliente_entry[0], new_ingresso_entry[0], qtd.example()) #compra_ing\n",
    "new_compra_ing_entry = new_compra_ing_entry()\n",
    "\n"
   ]
  },
  {
   "cell_type": "code",
   "execution_count": 97,
   "id": "a970e3c8",
   "metadata": {
    "collapsed": false
   },
   "outputs": [
    {
     "name": "stdout",
     "output_type": "stream",
     "text": [
      "('77.801.867/721-79', '12388-268', 1751, 'cinema.adams-johnson@gmail.com', '+81945343833', 'Cinema Adams-Johnson')\n",
      "('127.828.635-88', 'Kathryn da Cruz', 'Auxiliar', '63.998.369/241-58', '77.801.867/721-79', 'null')\n",
      "('37', 'Vanilla', '299', '77.801.867/721-79')\n",
      "(datetime.datetime(2022, 5, 18, 19, 59, 13, 852078), 'Portugues', 'Vanilla', '37', '77.801.867/721-79', 'Show Act Temple')\n",
      "('Show Act Temple', 'T', datetime.timedelta(seconds=8223, microseconds=199431))\n",
      "('Terror', 'Show Act Temple')\n",
      "('000000', 66.85124168242143)\n",
      "(datetime.datetime(2022, 5, 18, 22, 0, 0, 196764), '000000', '37', '77.801.867/721-79', datetime.datetime(2022, 5, 18, 19, 59, 13, 852078))\n",
      "('475558', 22.910731405565404, 'EXTRAGRANDE', 'CACHORRO-QUENTE', 'null')\n",
      "('472.226.728-11', 'Robert Novaes')\n",
      "('3788', 'PREMIADO', 23.29329948612483)\n",
      "(datetime.datetime(2022, 5, 18, 19, 59, 7, 458897, fold=1), '3788', '472.226.728-11', '000000', '70')\n",
      "(datetime.datetime(2022, 5, 18, 17, 1, 27, 721136, fold=1), '3788', '472.226.728-11', '475558', '30')\n"
     ]
    },
    {
     "ename": "UniqueViolation",
     "evalue": "duplicate key value violates unique constraint \"cinema_pkey\"\nDETAIL:  Key (cnpj)=(00.000.000/001-00) already exists.\n",
     "output_type": "error",
     "traceback": [
      "\u001b[0;31m---------------------------------------------------------------------------\u001b[0m",
      "\u001b[0;31mUniqueViolation\u001b[0m                           Traceback (most recent call last)",
      "Input \u001b[0;32mIn [97]\u001b[0m, in \u001b[0;36m<module>\u001b[0;34m\u001b[0m\n\u001b[1;32m     60\u001b[0m     \u001b[38;5;28;01mreturn\u001b[39;00m (timestamp_maker((new_sessao_entry[\u001b[38;5;241m0\u001b[39m],compra\u001b[38;5;241m.\u001b[39mexample()),\u001b[38;5;28;01mFalse\u001b[39;00m),new_cupom_entry[\u001b[38;5;241m0\u001b[39m], new_cliente_entry[\u001b[38;5;241m0\u001b[39m], new_consu_entry[\u001b[38;5;241m0\u001b[39m], qtd\u001b[38;5;241m.\u001b[39mexample())\n\u001b[1;32m     61\u001b[0m new_compra_consu_entry \u001b[38;5;241m=\u001b[39m new_compra_consu_entry()\n\u001b[0;32m---> 63\u001b[0m \u001b[43mcur\u001b[49m\u001b[38;5;241;43m.\u001b[39;49m\u001b[43mexecute\u001b[49m\u001b[43m(\u001b[49m\n\u001b[1;32m     64\u001b[0m \u001b[43m        \u001b[49m\u001b[38;5;124;43;03m\"\"\"\u001b[39;49;00m\n\u001b[1;32m     65\u001b[0m \u001b[38;5;124;43;03m        INSERT INTO CINEMA (cnpj, end_cep, end_num, cont_email, cont_tele, nome)\u001b[39;49;00m\n\u001b[1;32m     66\u001b[0m \u001b[38;5;124;43;03m        VALUES (%s, %s, %s, %s, %s, %s);\u001b[39;49;00m\n\u001b[1;32m     67\u001b[0m \u001b[38;5;124;43;03m        \"\"\"\u001b[39;49;00m\u001b[43m,\u001b[49m\n\u001b[1;32m     68\u001b[0m \u001b[43m        \u001b[49m\u001b[43m(\u001b[49m\u001b[43mnew_cinema_entry\u001b[49m\u001b[43m)\u001b[49m\u001b[43m)\u001b[49m\n\u001b[1;32m     70\u001b[0m \u001b[38;5;66;03m# cur.execute(\u001b[39;00m\n\u001b[1;32m     71\u001b[0m \u001b[38;5;66;03m#         \"\"\"\u001b[39;00m\n\u001b[1;32m     72\u001b[0m \u001b[38;5;66;03m#         INSERT INTO FUNCIONARIO (cpf, nome, funcao, cnpj, gerente)\u001b[39;00m\n\u001b[1;32m     73\u001b[0m \u001b[38;5;66;03m#         VALUES (%s, %s, %s, %s, %s);\u001b[39;00m\n\u001b[1;32m     74\u001b[0m \u001b[38;5;66;03m#         \"\"\",\u001b[39;00m\n\u001b[1;32m     75\u001b[0m \u001b[38;5;66;03m#         (new_funcionario_entry))\u001b[39;00m\n\u001b[1;32m     77\u001b[0m cur\u001b[38;5;241m.\u001b[39mexecute(\n\u001b[1;32m     78\u001b[0m         \u001b[38;5;124;03m\"\"\"\u001b[39;00m\n\u001b[1;32m     79\u001b[0m \u001b[38;5;124;03m        INSERT INTO SALA (numero, tipo, capacidade, cnpj)\u001b[39;00m\n\u001b[1;32m     80\u001b[0m \u001b[38;5;124;03m        VALUES (%s, %s, %s, %s );\u001b[39;00m\n\u001b[1;32m     81\u001b[0m \u001b[38;5;124;03m        \"\"\"\u001b[39;00m,\n\u001b[1;32m     82\u001b[0m         (new_sala_entry))\n",
      "\u001b[0;31mUniqueViolation\u001b[0m: duplicate key value violates unique constraint \"cinema_pkey\"\nDETAIL:  Key (cnpj)=(00.000.000/001-00) already exists.\n"
     ]
    }
   ],
   "source": [
    "print(new_cinema_entry)\n",
    "print(new_funcionario_entry)\n",
    "print(new_sala_entry)\n",
    "print(new_sessao_entry)\n",
    "print(new_filme_entry)\n",
    "print(new_genero_entry)\n",
    "print(new_ingresso_entry)\n",
    "print(new_associado_entry)\n",
    "print(new_consu_entry)\n",
    "print(new_cliente_entry)\n",
    "print(new_cupom_entry)\n",
    "print(new_compra_ing_entry)\n",
    "print(new_compra_consu_entry)\n",
    "\n",
    "for i in range(50):\n",
    "    def new_cinema_entry():\n",
    "        mail = mail_maker()\n",
    "        return (cnpj.example(), cep.example(), int(num.example()), mail[1], tel.example(), mail[0])\n",
    "\n",
    "    new_cinema_entry = new_cinema_entry()\n",
    "\n",
    "    def new_funcionario_entry():\n",
    "        return (cpf.example(), nome_maker(), funcao.example(), cnpj.example(),new_cinema_entry[0],\"null\") #faltou gerente\n",
    "\n",
    "    new_funcionario_entry = new_funcionario_entry()\n",
    "    def new_sala_entry():\n",
    "        return (numero.example(), tiposala.example(), capacidade.example(), new_cinema_entry[0])\n",
    "    new_sala_entry = new_sala_entry()\n",
    "    def new_filme_entry():\n",
    "        return (movie_maker(movie), faixaetaria.example(),duracao.example()) \n",
    "    new_filme_entry = new_filme_entry()\n",
    "    def new_sessao_entry():\n",
    "        return (horario.example(), idioma.example(), new_sala_entry[1],new_sala_entry[0], new_cinema_entry[0], new_filme_entry[0])\n",
    "    new_sessao_entry = new_sessao_entry()\n",
    "    def new_genero_entry():\n",
    "        return (genre.example(), new_filme_entry[0])\n",
    "    new_genero_entry = new_genero_entry()\n",
    "    def new_ingresso_entry():\n",
    "        return (codigo.example(), preco.example())\n",
    "    new_ingresso_entry = new_ingresso_entry()\n",
    "    def new_associado_entry():\n",
    "        return (timestamp_maker((new_sessao_entry[0],new_filme_entry[2]),True),new_ingresso_entry[0],new_sala_entry[0],new_cinema_entry[0], new_sessao_entry[0]) #   acesso\n",
    "    new_associado_entry = new_associado_entry()\n",
    "    def new_consu_entry():\n",
    "        return (codigo.example(), preco.example(), tamanho.example(), tipoconsu.example(), \"null\") #outro nome\n",
    "    new_consu_entry = new_consu_entry()\n",
    "    def new_cliente_entry():\n",
    "        return (cpf.example(), nome_maker())\n",
    "    new_cliente_entry = new_cliente_entry()\n",
    "\n",
    "    def new_cupom_entry():\n",
    "        return (idcupom.example(), tipocupom.example(), valor.example())\n",
    "    new_cupom_entry  = new_cupom_entry()\n",
    "\n",
    "    def new_compra_ing_entry():\n",
    "        return (timestamp_maker((new_sessao_entry[0],compra.example()),False) ,new_cupom_entry[0], new_cliente_entry[0], new_ingresso_entry[0], qtd.example()) #compra_ing\n",
    "    new_compra_ing_entry  = new_compra_ing_entry()\n",
    "\n",
    "    def new_compra_consu_entry():\n",
    "        return (timestamp_maker((new_sessao_entry[0],compra.example()),False),new_cupom_entry[0], new_cliente_entry[0], new_consu_entry[0], qtd.example())\n",
    "    new_compra_consu_entry = new_compra_consu_entry()\n",
    "\n",
    "    cur.execute(\n",
    "            \"\"\"\n",
    "            INSERT INTO CINEMA (cnpj, end_cep, end_num, cont_email, cont_tele, nome)\n",
    "            VALUES (%s, %s, %s, %s, %s, %s);\n",
    "            \"\"\",\n",
    "            (new_cinema_entry))\n",
    "\n",
    "    # cur.execute(\n",
    "    #         \"\"\"\n",
    "    #         INSERT INTO FUNCIONARIO (cpf, nome, funcao, cnpj, gerente)\n",
    "    #         VALUES (%s, %s, %s, %s, %s);\n",
    "    #         \"\"\",\n",
    "    #         (new_funcionario_entry))\n",
    "\n",
    "    cur.execute(\n",
    "            \"\"\"\n",
    "            INSERT INTO SALA (numero, tipo, capacidade, cnpj)\n",
    "            VALUES (%s, %s, %s, %s );\n",
    "            \"\"\",\n",
    "            (new_sala_entry))\n",
    "\n",
    "    cur.execute(\n",
    "            \"\"\"\n",
    "            INSERT INTO FILME (titulo, faixaetaria, duracao)\n",
    "            VALUES (%s, %s, %s );\n",
    "            \"\"\",\n",
    "            (new_filme_entry))\n",
    "\n",
    "    cur.execute(\n",
    "            \"\"\"\n",
    "            INSERT INTO SESSAO (horario, idioma, tipo, numero,cnpj,titulo)\n",
    "            VALUES (%s, %s, %s, %s,%s,%s );\n",
    "            \"\"\",\n",
    "            (new_sessao_entry))\n",
    "\n",
    "\n",
    "    cur.execute(\n",
    "            \"\"\"\n",
    "            INSERT INTO GENERO (genero,titulo)\n",
    "            VALUES (%s, %s );\n",
    "            \"\"\",\n",
    "            (new_genero_entry))\n",
    "\n",
    "    cur.execute(\n",
    "            \"\"\"\n",
    "            INSERT INTO INGRESSO (codigo,preco)\n",
    "            VALUES (%s, %s );\n",
    "            \"\"\",\n",
    "            (new_ingresso_entry))\n",
    "\n",
    "    cur.execute(\n",
    "            \"\"\"\n",
    "            INSERT INTO ASSOCIADO (acesso,codigo,numero,cnpj,horario)\n",
    "            VALUES (%s, %s, %s,%s,%s );\n",
    "            \"\"\",\n",
    "            (new_associado_entry))\n",
    "\n",
    "    cur.execute(\n",
    "            \"\"\"\n",
    "            INSERT INTO CONSUMIVEL (codigo,preco,tamanho,tipo,nome)\n",
    "            VALUES ( %s,%s,%s,%s,%s);\n",
    "            \"\"\",\n",
    "            (new_consu_entry))\n",
    "\n",
    "    cur.execute(\n",
    "            \"\"\"\n",
    "            INSERT INTO  CLIENTE (cpf, nome)\n",
    "            VALUES ( %s,%s);\n",
    "            \"\"\",\n",
    "            (new_cliente_entry))\n",
    "\n",
    "    cur.execute(\n",
    "            \"\"\"\n",
    "            INSERT INTO  CUPOM (idcupom, tipo, valor)\n",
    "            VALUES ( %s,%s,%s);\n",
    "            \"\"\",\n",
    "            (new_cupom_entry))\n",
    "\n",
    "    cur.execute(\n",
    "            \"\"\"\n",
    "            INSERT INTO  COMPRA_CONSU (compra_consu, idcupom, cpf, codigo, qtd)\n",
    "            VALUES ( %s,%s,%s,%s,%s);\n",
    "            \"\"\",\n",
    "            (new_compra_consu_entry))\n",
    "\n",
    "    cur.execute(\n",
    "            \"\"\"\n",
    "            INSERT INTO  COMPRA_ING (compra_ing, idcupom, cpf, codigo, qtd)\n",
    "            VALUES ( %s,%s,%s,%s,%s);\n",
    "            \"\"\",\n",
    "            (new_compra_ing_entry))\n",
    "print('OK')"
   ]
  },
  {
   "cell_type": "code",
   "execution_count": null,
   "id": "78da0ec3",
   "metadata": {
    "collapsed": false
   },
   "outputs": [],
   "source": [
    "conn.commit()"
   ]
  },
  {
   "cell_type": "code",
   "execution_count": 91,
   "id": "e3fcfe79",
   "metadata": {
    "collapsed": false
   },
   "outputs": [],
   "source": [
    "conn.rollback()"
   ]
  }
 ],
 "metadata": {
  "kernelspec": {
   "argv": [
    "/usr/bin/python3",
    "-m",
    "ipykernel_launcher",
    "-f",
    "{connection_file}"
   ],
   "display_name": "Python 3 (ipykernel)",
   "env": null,
   "interrupt_mode": "signal",
   "language": "python",
   "metadata": {
    "debugger": false
   },
   "name": "python3"
  },
  "name": "pop.ipynb"
 },
 "nbformat": 4,
 "nbformat_minor": 5
}
